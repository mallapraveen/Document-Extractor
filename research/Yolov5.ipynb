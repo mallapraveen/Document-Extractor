{
 "cells": [
  {
   "cell_type": "code",
   "execution_count": 15,
   "id": "6d2727ec-abbf-4ea8-8764-2b96564db2cc",
   "metadata": {},
   "outputs": [],
   "source": [
    "import torch\n",
    "import cv2\n",
    "import numpy as np\n",
    "from PIL import Image\n",
    "import matplotlib.pyplot as plt\n",
    "import pytesseract\n",
    "import seaborn as sns\n",
    "import warnings \n",
    "import pandas as pd\n",
    "warnings.filterwarnings('ignore')\n",
    "pytesseract.pytesseract.tesseract_cmd = r'C:\\Program Files\\Tesseract-OCR\\tesseract.exe'\n",
    "\n",
    "%matplotlib inline"
   ]
  },
  {
   "cell_type": "code",
   "execution_count": 9,
   "id": "e51e0684-4660-4c0f-bad0-d2f5fc2b4783",
   "metadata": {},
   "outputs": [],
   "source": [
    "def crop_object(image, box):\n",
    "    \"\"\"Crops an object in an image\n",
    "\n",
    "    Inputs:\n",
    "    image: PIL image\n",
    "    box: one box from Detectron2 pred_boxes\n",
    "    \"\"\"\n",
    "\n",
    "    color_coverted = cv2.cvtColor(image, cv2.COLOR_BGR2RGB)\n",
    "    pil_image=Image.fromarray(color_coverted)\n",
    "\n",
    "    x_top_left = box[0]\n",
    "    y_top_left = box[1]\n",
    "    x_bottom_right = box[2]\n",
    "    y_bottom_right = box[3]\n",
    "    x_center = (x_top_left + x_bottom_right) / 2\n",
    "    y_center = (y_top_left + y_bottom_right) / 2\n",
    "\n",
    "    crop_img = pil_image.crop((int(x_top_left), int(y_top_left), int(x_bottom_right), int(y_bottom_right)))\n",
    "    return crop_img"
   ]
  },
  {
   "cell_type": "code",
   "execution_count": 4,
   "id": "62497db4-f713-4c5e-a20a-65209fa88472",
   "metadata": {},
   "outputs": [],
   "source": [
    "pt = r'\\Database_Generation\\ouput\\Aadhar\\Models\\Yolov5s\\v2.pt'"
   ]
  },
  {
   "cell_type": "code",
   "execution_count": 5,
   "id": "380a4e89-13f7-4d46-815d-2403d93852f9",
   "metadata": {
    "tags": []
   },
   "outputs": [
    {
     "name": "stderr",
     "output_type": "stream",
     "text": [
      "Using cache found in C:\\Users\\malla.praveen/.cache\\torch\\hub\\ultralytics_yolov5_master\n",
      "YOLOv5  2022-1-27 torch 1.10.1+cpu CPU\n",
      "\n",
      "Fusing layers... \n",
      "Model Summary: 232 layers, 7257306 parameters, 0 gradients\n",
      "Adding AutoShape... \n"
     ]
    }
   ],
   "source": [
    "#model = torch.hub.load('ultralytics/yolov5', 'yolov5s', classes=5)\n",
    "#model = torch.hub.load('ultralytics/yolov5', 'yolov5s', classes=5)\n",
    "#model.load_state_dict(torch.load(pt)['model'].state_dict())\n",
    "\n",
    "model = torch.hub.load('ultralytics/yolov5', 'custom', path=pt)"
   ]
  },
  {
   "cell_type": "code",
   "execution_count": 6,
   "id": "8911b400-6b99-4076-b34d-979aad520fe5",
   "metadata": {},
   "outputs": [
    {
     "name": "stderr",
     "output_type": "stream",
     "text": [
      "C:\\ProgramData\\Anaconda3\\lib\\site-packages\\torch\\autocast_mode.py:141: UserWarning: User provided device_type of 'cuda', but CUDA is not available. Disabling\n",
      "  warnings.warn('User provided device_type of \\'cuda\\', but CUDA is not available. Disabling')\n"
     ]
    }
   ],
   "source": [
    "img = r'\\ouput\\Aadhar\\Front_Long\\Front_Long_15.JPG'\n",
    "\n",
    "image=cv2.imread(img)\n",
    "\n",
    "results = model(image)\n",
    "boxes,labels = results.pandas().xyxy[0].loc[:,['xmin', 'ymin', 'xmax', 'ymax']].values, results.pandas().xyxy[0].loc[:,'name'].values"
   ]
  },
  {
   "cell_type": "code",
   "execution_count": 17,
   "id": "f06aa387-5ebd-4da2-8c6d-19d600a8ea69",
   "metadata": {},
   "outputs": [],
   "source": [
    "dic = {0:'Example', 1: 'Aadhar Number', 2: 'Address', 3: 'DOB', 4: 'Gender', 5: 'Name'}"
   ]
  },
  {
   "cell_type": "code",
   "execution_count": 25,
   "id": "66b70b98-eb95-4133-a77e-3c9f9a595ef6",
   "metadata": {},
   "outputs": [
    {
     "data": {
      "text/plain": [
       "['Example', 'Aadhar Number', 'Address', 'DOB', 'Gender', 'Name']"
      ]
     },
     "execution_count": 26,
     "metadata": {},
     "output_type": "execute_result"
    }
   ],
   "source": [
    "list(dic.values()).index('DOB')"
   ]
  },
  {
   "cell_type": "code",
   "execution_count": 32,
   "id": "cd3970fd-bb71-4a84-b108-c0f8393d5814",
   "metadata": {},
   "outputs": [
    {
     "name": "stdout",
     "output_type": "stream",
     "text": [
      "['Aadhar Number' 'Address' 'Aadhar Number' 'DOB' 'Address']\n",
      "[1, 2, 1, 3, 2]\n"
     ]
    }
   ],
   "source": [
    "print(labels)\n",
    "\n",
    "pred_classes = list(map(lambda x: list(dic.values()).index(x),labels))\n",
    "\n",
    "print(pred_classes)"
   ]
  },
  {
   "cell_type": "code",
   "execution_count": 10,
   "id": "80c3cfca-c3d5-46e4-bbe8-ab6328d6c240",
   "metadata": {},
   "outputs": [
    {
     "name": "stdout",
     "output_type": "stream",
     "text": [
      "['Aadhar Number']  :  POS Daaco\n",
      "\n"
     ]
    },
    {
     "name": "stderr",
     "output_type": "stream",
     "text": [
      "C:\\Users\\malla.praveen\\AppData\\Local\\Temp/ipykernel_20224/185092985.py:10: UserWarning: Matplotlib is currently using agg, which is a non-GUI backend, so cannot show the figure.\n",
      "  plt.show()\n"
     ]
    },
    {
     "name": "stdout",
     "output_type": "stream",
     "text": [
      "['Address']  :  Address: S/Q Ashok Dubey,\n",
      "\n",
      "2303,21st Cross,\n",
      "\n",
      "K R Road.2nd Stage.\n",
      "ashankari,Bangalore,\n",
      "\n",
      "30083\n",
      "\n",
      "\n",
      "['Aadhar Number']  :  611 3211 9265\n",
      "\n",
      "VID : 611 3211 9265\n",
      "\n",
      "['DOB']  :  DOB:7/6/2007\n",
      "\n",
      "['Address']  :  D> esa omg / Your Aadhaar Nc\n",
      "\n",
      "611 3211 9265\n",
      "\n",
      "= esorS, TS Gon\n",
      "\n",
      "\n"
     ]
    }
   ],
   "source": [
    "for i in range(len(boxes)):\n",
    "    box = boxes[i]\n",
    "    crop_img = crop_object(image, box)\n",
    "    crop_img = np.array(crop_img)\n",
    "    crop_img = cv2.cvtColor(crop_img, cv2.COLOR_RGB2BGR)\n",
    "    img = cv2.resize(crop_img, (300, 100))\n",
    "    text = pytesseract.image_to_string(img)\n",
    "    print(labels[i], ' : ' , text)\n",
    "    plt.imshow(crop_img)\n",
    "    plt.show()"
   ]
  },
  {
   "cell_type": "code",
   "execution_count": 12,
   "id": "11f43613-d6c9-4a0a-bf68-802821f949f6",
   "metadata": {},
   "outputs": [
    {
     "name": "stderr",
     "output_type": "stream",
     "text": [
      "C:\\Users\\malla.praveen\\AppData\\Local\\Temp/ipykernel_20224/399247910.py:2: UserWarning: Matplotlib is currently using agg, which is a non-GUI backend, so cannot show the figure.\n",
      "  plt.show()\n"
     ]
    }
   ],
   "source": [
    "plt.imshow(img)\n",
    "plt.show()"
   ]
  },
  {
   "cell_type": "code",
   "execution_count": 8,
   "id": "a5b0aa6e-49c8-42ef-9a31-00777cdaf2e9",
   "metadata": {},
   "outputs": [],
   "source": []
  },
  {
   "cell_type": "code",
   "execution_count": 21,
   "id": "d08b9051-0ae7-43e4-8f0f-dae8c194e80d",
   "metadata": {
    "tags": []
   },
   "outputs": [
    {
     "data": {
      "image/png": "[encoded data removed]",
      "text/plain": [
       "<Figure size 432x288 with 1 Axes>"
      ]
     },
     "metadata": {
      "needs_background": "light"
     },
     "output_type": "display_data"
    },
    {
     "name": "stderr",
     "output_type": "stream",
     "text": [
      "Using cache found in C:\\Users\\malla.praveen/.cache\\torch\\hub\\ultralytics_yolov5_master\n",
      "YOLOv5  2022-1-27 torch 1.10.1+cpu CPU\n",
      "\n",
      "Fusing layers... \n",
      "Model Summary: 232 layers, 7257306 parameters, 0 gradients\n",
      "Adding AutoShape... \n"
     ]
    },
    {
     "name": "stdout",
     "output_type": "stream",
     "text": [
      "[         xmin        ymin        xmax        ymax  confidence  class  \\\n",
      "0  171.614227  513.130615  351.582336  572.830750    0.907525      0   \n",
      "1  207.398804  401.287964  263.200378  442.201569    0.850003      3   \n",
      "2  218.896683  353.735535  335.476959  389.405426    0.835983      2   \n",
      "3  160.227005  172.198669  270.941193  214.517319    0.757418      4   \n",
      "4    2.988628  592.775940  155.967651  698.344543    0.550072      1   \n",
      "5  382.958282  598.957947  525.000000  614.671936    0.497733      0   \n",
      "6  259.931427  598.680054  486.454559  614.268677    0.291272      0   \n",
      "\n",
      "           name  \n",
      "0  AadharNumber  \n",
      "1        Gender  \n",
      "2           DOB  \n",
      "3          Name  \n",
      "4       Address  \n",
      "5  AadharNumber  \n",
      "6  AadharNumber  ]\n"
     ]
    }
   ],
   "source": [
    "image=cv2.imread(r'\\Database_Generation\\ouput\\Aadhar\\Dataset\\Roboflow\\1.jpg')\n",
    "image = cv2.resize(image, (525, 700))\n",
    "\n",
    "plt.imshow(image)\n",
    "plt.show()\n",
    "\n",
    "model = torch.hub.load('ultralytics/yolov5', 'custom', path=r'C:\\Users\\malla.praveen\\Desktop\\MacCamish-NGIN\\Repo\\Database_Generation\\ouput\\Aadhar\\Models\\Yolov5s\\v5.pt')\n",
    "\n",
    "results = model(image)\n",
    "boxes,pred_classes = results.pandas().xyxy[0].loc[:,['xmin', 'ymin', 'xmax', 'ymax']].values, results.pandas().xyxy[0].loc[:,'name'].values\n",
    "print(results.pandas().xyxy)"
   ]
  },
  {
   "cell_type": "code",
   "execution_count": 22,
   "id": "a461e100-bec6-42a6-9352-7946ed65b432",
   "metadata": {},
   "outputs": [
    {
     "ename": "AttributeError",
     "evalue": "'Detections' object has no attribute 'shape'",
     "output_type": "error",
     "traceback": [
      "\u001b[1;31m---------------------------------------------------------------------------\u001b[0m",
      "\u001b[1;31mAttributeError\u001b[0m                            Traceback (most recent call last)",
      "Input \u001b[1;32mIn [22]\u001b[0m, in \u001b[0;36m<module>\u001b[1;34m\u001b[0m\n\u001b[1;32m----> 1\u001b[0m \u001b[43mresults\u001b[49m\u001b[38;5;241;43m.\u001b[39;49m\u001b[43mshape\u001b[49m\n",
      "\u001b[1;31mAttributeError\u001b[0m: 'Detections' object has no attribute 'shape'"
     ]
    }
   ],
   "source": [
    "results.shape"
   ]
  },
  {
   "cell_type": "code",
   "execution_count": 20,
   "id": "629bde97-8e79-4682-90db-cec86fea9f6e",
   "metadata": {},
   "outputs": [
    {
     "data": {
      "text/html": [
       "<div>\n",
       "<style scoped>\n",
       "    .dataframe tbody tr th:only-of-type {\n",
       "        vertical-align: middle;\n",
       "    }\n",
       "\n",
       "    .dataframe tbody tr th {\n",
       "        vertical-align: top;\n",
       "    }\n",
       "\n",
       "    .dataframe thead th {\n",
       "        text-align: right;\n",
       "    }\n",
       "</style>\n",
       "<table border=\"1\" class=\"dataframe\">\n",
       "  <thead>\n",
       "    <tr style=\"text-align: right;\">\n",
       "      <th></th>\n",
       "      <th>xmin</th>\n",
       "      <th>ymin</th>\n",
       "      <th>xmax</th>\n",
       "      <th>ymax</th>\n",
       "      <th>confidence</th>\n",
       "      <th>class</th>\n",
       "      <th>name</th>\n",
       "    </tr>\n",
       "  </thead>\n",
       "  <tbody>\n",
       "    <tr>\n",
       "      <th>0</th>\n",
       "      <td>171.614227</td>\n",
       "      <td>513.130615</td>\n",
       "      <td>351.582336</td>\n",
       "      <td>572.830750</td>\n",
       "      <td>0.907525</td>\n",
       "      <td>0</td>\n",
       "      <td>AadharNumber</td>\n",
       "    </tr>\n",
       "    <tr>\n",
       "      <th>1</th>\n",
       "      <td>207.398804</td>\n",
       "      <td>401.287964</td>\n",
       "      <td>263.200378</td>\n",
       "      <td>442.201569</td>\n",
       "      <td>0.850003</td>\n",
       "      <td>3</td>\n",
       "      <td>Gender</td>\n",
       "    </tr>\n",
       "    <tr>\n",
       "      <th>2</th>\n",
       "      <td>218.896683</td>\n",
       "      <td>353.735535</td>\n",
       "      <td>335.476959</td>\n",
       "      <td>389.405426</td>\n",
       "      <td>0.835983</td>\n",
       "      <td>2</td>\n",
       "      <td>DOB</td>\n",
       "    </tr>\n",
       "    <tr>\n",
       "      <th>3</th>\n",
       "      <td>160.227005</td>\n",
       "      <td>172.198669</td>\n",
       "      <td>270.941193</td>\n",
       "      <td>214.517319</td>\n",
       "      <td>0.757418</td>\n",
       "      <td>4</td>\n",
       "      <td>Name</td>\n",
       "    </tr>\n",
       "    <tr>\n",
       "      <th>4</th>\n",
       "      <td>2.988628</td>\n",
       "      <td>592.775940</td>\n",
       "      <td>155.967651</td>\n",
       "      <td>698.344543</td>\n",
       "      <td>0.550072</td>\n",
       "      <td>1</td>\n",
       "      <td>Address</td>\n",
       "    </tr>\n",
       "    <tr>\n",
       "      <th>5</th>\n",
       "      <td>382.958282</td>\n",
       "      <td>598.957947</td>\n",
       "      <td>525.000000</td>\n",
       "      <td>614.671936</td>\n",
       "      <td>0.497733</td>\n",
       "      <td>0</td>\n",
       "      <td>AadharNumber</td>\n",
       "    </tr>\n",
       "    <tr>\n",
       "      <th>6</th>\n",
       "      <td>259.931427</td>\n",
       "      <td>598.680054</td>\n",
       "      <td>486.454559</td>\n",
       "      <td>614.268677</td>\n",
       "      <td>0.291272</td>\n",
       "      <td>0</td>\n",
       "      <td>AadharNumber</td>\n",
       "    </tr>\n",
       "  </tbody>\n",
       "</table>\n",
       "</div>"
      ],
      "text/plain": [
       "         xmin        ymin        xmax        ymax  confidence  class  \\\n",
       "0  171.614227  513.130615  351.582336  572.830750    0.907525      0   \n",
       "1  207.398804  401.287964  263.200378  442.201569    0.850003      3   \n",
       "2  218.896683  353.735535  335.476959  389.405426    0.835983      2   \n",
       "3  160.227005  172.198669  270.941193  214.517319    0.757418      4   \n",
       "4    2.988628  592.775940  155.967651  698.344543    0.550072      1   \n",
       "5  382.958282  598.957947  525.000000  614.671936    0.497733      0   \n",
       "6  259.931427  598.680054  486.454559  614.268677    0.291272      0   \n",
       "\n",
       "           name  \n",
       "0  AadharNumber  \n",
       "1        Gender  \n",
       "2           DOB  \n",
       "3          Name  \n",
       "4       Address  \n",
       "5  AadharNumber  \n",
       "6  AadharNumber  "
      ]
     },
     "execution_count": 20,
     "metadata": {},
     "output_type": "execute_result"
    }
   ],
   "source": [
    "pd.DataFrame(results.pandas().xyxy[0])"
   ]
  },
  {
   "cell_type": "code",
   "execution_count": 23,
   "id": "dd3b943c-05ff-4455-848f-69748f4ee9d2",
   "metadata": {},
   "outputs": [
    {
     "name": "stdout",
     "output_type": "stream",
     "text": [
      "- @ file:///D:/bld/click_1635822830533/workNote: you may need to restart the kernel to use updated packages.\n",
      "-egex @ file:///C:/ci/regex_1617569893741/work\n",
      "-gex @ file:///C:/ci/regex_1617569893741/work\n",
      "-hardet @ file:///C:/ci/chardet_1607690654534/work\n",
      "-lick @ file:///D:/bld/click_1635822830533/work\n",
      "-mportlib-metadata @ file:///D:/bld/importlib-metadata_1642514138647/work\n",
      "-rllib3 @ file:///home/conda/feedstock_root/build_artifacts/urllib3_1641584929973/work\n",
      "-yparsing @ file:///home/conda/feedstock_root/build_artifacts/pyparsing_1642753572664/work\n",
      "absl-py==1.0.0\n",
      "anaconda-client @ file:///C:/ci/anaconda-client_1635342752200/work\n",
      "anaconda-navigator==2.1.1\n",
      "antlr4-python3-runtime==4.8\n",
      "\n"
     ]
    },
    {
     "name": "stderr",
     "output_type": "stream",
     "text": [
      "WARNING: Could not generate requirement for distribution -oogletrans 3.1.0a0 (c:\\programdata\\anaconda3\\lib\\site-packages): Parse error at \"'-oogletr'\": Expected W:(abcd...)\n",
      "WARNING: Could not generate requirement for distribution -iwisolver 1.3.2 (c:\\programdata\\anaconda3\\lib\\site-packages): Parse error at \"'-iwisolv'\": Expected W:(abcd...)\n"
     ]
    },
    {
     "name": "stdout",
     "output_type": "stream",
     "text": [
      "anyio==3.5.0\n",
      "appdirs==1.4.4\n",
      "argon2-cffi @ file:///home/conda/feedstock_root/build_artifacts/argon2-cffi_1640817743617/work\n",
      "argon2-cffi-bindings @ file:///D:/bld/argon2-cffi-bindings_1640855429528/work\n",
      "asttokens @ file:///home/conda/feedstock_root/build_artifacts/asttokens_1618968359944/work\n",
      "astunparse==1.6.3\n",
      "attrs @ file:///home/conda/feedstock_root/build_artifacts/attrs_1640799537051/work\n",
      "audioread==2.1.9\n",
      "azure-cognitiveservices-speech==1.19.0\n",
      "azure-cognitiveservices-vision-computervision==0.9.0\n",
      "azure-common==1.1.27\n",
      "Babel==2.9.1\n",
      "backcall @ file:///home/conda/feedstock_root/build_artifacts/backcall_1592338393461/work\n",
      "backports.functools-lru-cache @ file:///home/conda/feedstock_root/build_artifacts/backports.functools_lru_cache_1618230623929/work\n",
      "backports.tempfile==1.0\n",
      "backports.weakref==1.0.post1\n",
      "beautifulsoup4 @ file:///home/conda/feedstock_root/build_artifacts/beautifulsoup4_1631087867185/work\n",
      "black==21.4b2\n",
      "bleach @ file:///home/conda/feedstock_root/build_artifacts/bleach_1629908509068/work\n",
      "blis==0.7.5\n",
      "bpemb==0.3.3\n",
      "brotlipy @ file:///D:/bld/brotlipy_1636012381660/work\n",
      "cachetools==5.0.0\n",
      "catalogue==2.0.6\n",
      "certifi==2021.5.30\n",
      "cffi @ file:///D:/bld/cffi_1636046293990/work\n",
      "chardet @ file:///D:/bld/chardet_1635815015676/work\n",
      "charset-normalizer @ file:///home/conda/feedstock_root/build_artifacts/charset-normalizer_1643649795184/work\n",
      "click==7.1.2\n",
      "cloudpickle==2.0.0\n",
      "clyent==1.2.2\n",
      "colorama @ file:///home/conda/feedstock_root/build_artifacts/colorama_1602866480661/work\n",
      "conda==4.11.0\n",
      "conda-build==3.21.7\n",
      "conda-content-trust @ file:///home/conda/feedstock_root/build_artifacts/conda-content-trust_1621370699668/work\n",
      "conda-package-handling @ file:///D:/bld/conda-package-handling_1636021804514/work\n",
      "conda-repo-cli @ file:///tmp/build/80754af9/conda-repo-cli_1620168426516/work\n",
      "conda-token @ file:///tmp/build/80754af9/conda-token_1620076980546/work\n",
      "conda-verify==3.4.2\n",
      "conllu==4.4.1\n",
      "cryptography @ file:///D:/bld/cryptography_1639699508385/work\n",
      "cycler==0.10.0\n",
      "cymem==2.0.6\n",
      "Cython==0.29.23\n",
      "dataclasses @ file:///home/conda/feedstock_root/build_artifacts/dataclasses_1628958434797/work\n",
      "debugpy @ file:///D:/bld/debugpy_1636043421411/work\n",
      "decorator @ file:///home/conda/feedstock_root/build_artifacts/decorator_1641555617451/work\n",
      "defusedxml @ file:///home/conda/feedstock_root/build_artifacts/defusedxml_1615232257335/work\n",
      "Deprecated==1.2.13\n",
      "-e git+https://github.com/facebookresearch/detectron2.git@710e7795d0eeadf9def0e7ef957eea13532e34cf#egg=detectron2\n",
      "dill==0.3.4\n",
      "ecdsa==0.17.0\n",
      "English-to-Hindi==0.0.1\n",
      "entrypoints @ file:///home/conda/feedstock_root/build_artifacts/entrypoints_1643888246732/work\n",
      "executing @ file:///home/conda/feedstock_root/build_artifacts/executing_1633213722787/work\n",
      "Faker==11.0.0\n",
      "filelock @ file:///home/conda/feedstock_root/build_artifacts/filelock_1641470428964/work\n",
      "flair==0.10\n",
      "flatbuffers==2.0\n",
      "flit-core @ file:///home/conda/feedstock_root/build_artifacts/flit-core_1640697294996/work/source/flit_core\n",
      "fonttools==4.29.1\n",
      "ftfy==6.1.1\n",
      "future @ file:///D:/bld/future_1635819659513/work\n",
      "fvcore==0.1.5.post20220119\n",
      "gast==0.4.0\n",
      "gdown==3.12.2\n",
      "gensim==4.1.2\n",
      "glob2==0.7\n",
      "google-auth==2.5.0\n",
      "google-auth-oauthlib==0.4.6\n",
      "google-pasta==0.2.0\n",
      "googletrans==3.1.0a0\n",
      "grequests==0.6.0\n",
      "grpcio==1.43.0\n",
      "h11==0.9.0\n",
      "h2==3.2.0\n",
      "h5py==3.6.0\n",
      "hpack==3.0.0\n",
      "hstspreload==2021.12.1\n",
      "httpcore==0.9.1\n",
      "httpx==0.13.3\n",
      "huggingface-hub==0.4.0\n",
      "hydra-core==1.1.1\n",
      "hyperframe==5.2.0\n",
      "idna==2.10\n",
      "importlib-metadata==3.10.1\n",
      "importlib-resources @ file:///home/conda/feedstock_root/build_artifacts/importlib_resources_1635615662634/work\n",
      "imutils==0.5.4\n",
      "indic-transliteration==2.3.5\n",
      "iopath==0.1.9\n",
      "ipykernel @ file:///D:/bld/ipykernel_1643811794463/work/dist/ipykernel-6.8.0-py3-none-any.whl\n",
      "ipython @ file:///D:/bld/ipython_1642613902863/work\n",
      "ipython-genutils==0.2.0\n",
      "ipywidgets @ file:///home/conda/feedstock_root/build_artifacts/ipywidgets_1631590360471/work\n",
      "isodate==0.6.1\n",
      "Janome==0.4.1\n",
      "jedi @ file:///D:/bld/jedi_1637175281472/work\n",
      "Jinja2 @ file:///home/conda/feedstock_root/build_artifacts/jinja2_1636510082894/work\n",
      "joblib @ file:///home/conda/feedstock_root/build_artifacts/joblib_1633637554808/work\n",
      "json5==0.9.6\n",
      "jsonschema @ file:///home/conda/feedstock_root/build_artifacts/jsonschema-meta_1642000296051/work\n",
      "jupyter @ file:///D:/bld/jupyter_1637233286771/work\n",
      "jupyter-client @ file:///home/conda/feedstock_root/build_artifacts/jupyter_client_1642858610849/work\n",
      "jupyter-console @ file:///home/conda/feedstock_root/build_artifacts/jupyter_console_1616560109969/work\n",
      "jupyter-core @ file:///D:/bld/jupyter_core_1636814449073/work\n",
      "jupyter-server==1.13.5\n",
      "jupyterlab==3.2.9\n",
      "jupyterlab-pygments @ file:///home/conda/feedstock_root/build_artifacts/jupyterlab_pygments_1601375948261/work\n",
      "jupyterlab-server==2.10.3\n",
      "jupyterlab-widgets @ file:///home/conda/feedstock_root/build_artifacts/jupyterlab_widgets_1631590465624/work\n",
      "keras==2.7.0\n",
      "Keras-Preprocessing==1.1.2\n",
      "kiwisolver==1.3.1\n",
      "konoha==4.6.5\n",
      "langcodes==3.3.0\n",
      "langdetect==1.0.9\n",
      "libarchive-c @ file:///D:/bld/python-libarchive-c_1643045966870/work\n",
      "libclang==13.0.0\n",
      "libretranslatepy==2.1.1\n",
      "librosa==0.8.1\n",
      "loguru==0.6.0\n",
      "lxml==4.7.1\n",
      "Markdown==3.3.6\n",
      "MarkupSafe @ file:///D:/bld/markupsafe_1635833725355/work\n",
      "matplotlib==3.5.1\n",
      "matplotlib-inline @ file:///home/conda/feedstock_root/build_artifacts/matplotlib-inline_1631080358261/work\n",
      "menuinst @ file:///D:/bld/menuinst_1636828817929/work\n",
      "mistune @ file:///D:/bld/mistune_1635844874781/work\n",
      "more-itertools==8.8.0\n",
      "mpld3==0.3\n",
      "msrest==0.6.21\n",
      "multiprocess==0.70.12.2\n",
      "murmurhash==1.0.6\n",
      "mypy-extensions @ file:///D:/bld/mypy_extensions_1635839836822/work\n",
      "navigator-updater==0.2.1\n",
      "nbclassic==0.3.5\n",
      "nbclient @ file:///home/conda/feedstock_root/build_artifacts/nbclient_1642144614450/work\n",
      "nbconvert @ file:///D:/bld/nbconvert_1643238103174/work\n",
      "nbformat @ file:///home/conda/feedstock_root/build_artifacts/nbformat_1617383142101/work\n",
      "nest-asyncio @ file:///home/conda/feedstock_root/build_artifacts/nest-asyncio_1638419302549/work\n",
      "noisereduce==2.0.0\n",
      "notebook @ file:///home/conda/feedstock_root/build_artifacts/notebook_1643149609895/work\n",
      "numpy @ file:///D:/bld/numpy_1643959091469/work\n",
      "oauthlib==3.1.1\n",
      "omegaconf==2.1.1\n",
      "opencv-python==4.5.4.60\n",
      "opt-einsum==3.3.0\n",
      "overrides==3.1.0\n",
      "packaging @ file:///home/conda/feedstock_root/build_artifacts/packaging_1637239678211/work\n",
      "pandas==1.4.0\n",
      "pandocfilters @ file:///home/conda/feedstock_root/build_artifacts/pandocfilters_1631603243851/work\n",
      "parso @ file:///home/conda/feedstock_root/build_artifacts/parso_1638334955874/work\n",
      "pathos==0.2.8\n",
      "pathspec @ file:///home/conda/feedstock_root/build_artifacts/pathspec_1626613672358/work\n",
      "pathy==0.6.1\n",
      "pickleshare @ file:///home/conda/feedstock_root/build_artifacts/pickleshare_1602536217715/work\n",
      "Pillow @ file:///D:/bld/pillow_1643983333709/work\n",
      "pkginfo @ file:///home/conda/feedstock_root/build_artifacts/pkginfo_1638813452194/work\n",
      "platformdirs @ file:///tmp/build/80754af9/platformdirs_1638968569495/work\n",
      "pooch==1.5.2\n",
      "portalocker==2.3.2\n",
      "pox==0.3.0\n",
      "ppft==1.6.6.4\n",
      "preshed==3.0.6\n",
      "prometheus-client @ file:///home/conda/feedstock_root/build_artifacts/prometheus_client_1643395600215/work\n",
      "prompt-toolkit @ file:///home/conda/feedstock_root/build_artifacts/prompt-toolkit_1643362612956/work\n",
      "protobuf==3.19.3\n",
      "psutil @ file:///D:/bld/psutil_1640887336249/work\n",
      "pure-eval @ file:///home/conda/feedstock_root/build_artifacts/pure_eval_1642875951954/work\n",
      "pyasn1==0.4.8\n",
      "pyasn1-modules==0.2.8\n",
      "pycocotools==2.0.4\n",
      "pycocotools-windows==2.0.0.2\n",
      "pycosat @ file:///D:/bld/pycosat_1636020434826/work\n",
      "pycparser @ file:///home/conda/feedstock_root/build_artifacts/pycparser_1636257122734/work\n",
      "pydantic==1.8.2\n",
      "pydot==1.4.2\n",
      "PyExecJS==1.5.1\n",
      "Pygments @ file:///home/conda/feedstock_root/build_artifacts/pygments_1641580240686/work\n",
      "PyJWT @ file:///home/conda/feedstock_root/build_artifacts/pyjwt_1638819640841/work\n",
      "pyOpenSSL @ file:///home/conda/feedstock_root/build_artifacts/pyopenssl_1643496850550/work\n",
      "pyparsing==2.4.7\n",
      "PyQt5==5.12.3\n",
      "PyQt5-sip==4.19.18\n",
      "PyQtChart==5.12\n",
      "PyQtWebEngine==5.12.1\n",
      "pyrsistent @ file:///D:/bld/pyrsistent_1642534741460/work\n",
      "pysndfx==0.3.6\n",
      "PySocks @ file:///D:/bld/pysocks_1635862590164/work\n",
      "pytesseract==0.3.8\n",
      "python-dateutil @ file:///home/conda/feedstock_root/build_artifacts/python-dateutil_1626286286081/work\n",
      "python-dotenv==0.19.2\n",
      "python-jose==3.3.0\n",
      "python-keycloak==0.26.1\n",
      "python-speech-features==0.6\n",
      "pytz @ file:///home/conda/feedstock_root/build_artifacts/pytz_1633452062248/work\n",
      "pywin32==303\n",
      "pywinpty==1.1.6\n",
      "PyYAML @ file:///D:/bld/pyyaml_1636139895442/work\n",
      "pyzmq @ file:///D:/bld/pyzmq_1635877383625/work\n",
      "qtconsole @ file:///home/conda/feedstock_root/build_artifacts/qtconsole-base_1640876679830/work\n",
      "QtPy @ file:///home/conda/feedstock_root/build_artifacts/qtpy_1643828301492/work\n",
      "randominfo==2.0.2\n",
      "regex==2022.1.18\n",
      "requests @ file:///home/conda/feedstock_root/build_artifacts/requests_1641580202195/work\n",
      "requests-oauthlib==1.3.0\n",
      "resampy==0.2.2\n",
      "rfc3986==1.5.0\n",
      "roboflow==0.2.2\n",
      "rsa==4.8\n",
      "ruamel-yaml-conda @ file:///C:/ci/ruamel_yaml_1616016967756/work\n",
      "sacremoses==0.0.47\n",
      "scikit-learn @ file:///D:/bld/scikit-learn_1640464350231/work\n",
      "scipy @ file:///C:/bld/scipy_1615956101586/work\n",
      "seaborn==0.11.2\n",
      "segtok==1.5.11\n",
      "selenium==3.141.0\n",
      "Send2Trash @ file:///home/conda/feedstock_root/build_artifacts/send2trash_1628511208346/work\n",
      "sentencepiece==0.1.95\n",
      "six @ file:///home/conda/feedstock_root/build_artifacts/six_1620240208055/work\n",
      "smart-open==5.2.1\n",
      "sniffio==1.2.0\n",
      "SoundFile==0.10.3.post1\n",
      "soupsieve @ file:///home/conda/feedstock_root/build_artifacts/soupsieve_1638550740809/work\n",
      "spacy==3.2.1\n",
      "spacy-legacy==3.0.8\n",
      "spacy-loggers==1.0.1\n",
      "SpeechRecognition==3.8.1\n",
      "sqlitedict==1.7.0\n",
      "srsly==2.4.2\n",
      "stack-data @ file:///home/conda/feedstock_root/build_artifacts/stack_data_1642255706390/work\n",
      "tabulate==0.8.9\n",
      "tensorboard==2.8.0\n",
      "tensorboard-data-server==0.6.1\n",
      "tensorboard-plugin-wit==1.8.1\n",
      "tensorflow==2.7.0\n",
      "tensorflow-estimator==2.7.0\n",
      "tensorflow-io-gcs-filesystem==0.23.1\n",
      "termcolor==1.1.0\n",
      "terminado @ file:///D:/bld/terminado_1643296724819/work\n",
      "tesseract==0.1.3\n",
      "testpath @ file:///home/conda/feedstock_root/build_artifacts/testpath_1621261527237/work\n",
      "text-unidecode==1.3\n",
      "thinc==8.0.13\n",
      "threadpoolctl @ file:///home/conda/feedstock_root/build_artifacts/threadpoolctl_1643647933166/work\n",
      "tokenizers==0.11.4\n",
      "toml==0.10.2\n",
      "tomli @ file:///home/conda/feedstock_root/build_artifacts/tomli_1639523130782/work\n",
      "torch==1.10.1\n",
      "torchaudio==0.10.1\n",
      "torchvision==0.11.2\n",
      "tornado @ file:///D:/bld/tornado_1635819758615/work\n",
      "tqdm @ file:///home/conda/feedstock_root/build_artifacts/tqdm_1632160078689/work\n",
      "traitlets @ file:///home/conda/feedstock_root/build_artifacts/traitlets_1635260543454/work\n",
      "transformers==4.16.2\n",
      "translate==3.6.1\n",
      "translate-api==4.9.5\n",
      "typed-ast @ file:///D:/bld/typed-ast_1643045985582/work\n",
      "typer==0.3.2\n",
      "typing-extensions @ file:///home/conda/feedstock_root/build_artifacts/typing_extensions_1638334978229/work\n",
      "ujson @ file:///D:/bld/ujson_1640096163820/work\n",
      "urllib3==1.26.6\n",
      "wasabi==0.9.0\n",
      "wcwidth @ file:///home/conda/feedstock_root/build_artifacts/wcwidth_1600965781394/work\n",
      "webencodings==0.5.1\n",
      "websocket-client==1.2.3\n",
      "wget==3.2\n",
      "widgetsnbextension @ file:///D:/bld/widgetsnbextension_1637174334634/work\n",
      "Wikipedia-API==0.5.4\n",
      "win-inet-pton @ file:///D:/bld/win_inet_pton_1635833007271/work\n",
      "win32-setctime==1.1.0\n",
      "wrapt==1.13.3\n",
      "xmltodict==0.12.0\n",
      "yacs==0.1.8\n",
      "zipp @ file:///home/conda/feedstock_root/build_artifacts/zipp_1643828507773/work\n"
     ]
    }
   ],
   "source": [
    "pip freeze"
   ]
  }
 ],
 "metadata": {
  "kernelspec": {
   "display_name": "Python 3 (ipykernel)",
   "language": "python",
   "name": "python3"
  },
  "language_info": {
   "codemirror_mode": {
    "name": "ipython",
    "version": 3
   },
   "file_extension": ".py",
   "mimetype": "text/x-python",
   "name": "python",
   "nbconvert_exporter": "python",
   "pygments_lexer": "ipython3",
   "version": "3.8.12"
  }
 },
 "nbformat": 4,
 "nbformat_minor": 5
}
